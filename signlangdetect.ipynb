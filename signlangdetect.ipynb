{
 "cells": [
  {
   "cell_type": "code",
   "execution_count": 1,
   "metadata": {},
   "outputs": [],
   "source": [
    "from sklearn.model_selection import train_test_split\n",
    "import numpy as np\n",
    "from load_data import load_data\n",
    "import matplotlib.pyplot as plt\n",
    "\n"
   ]
  },
  {
   "cell_type": "code",
   "execution_count": 2,
   "metadata": {},
   "outputs": [
    {
     "name": "stdout",
     "output_type": "stream",
     "text": [
      "Loading data....\n",
      "Done...\n"
     ]
    }
   ],
   "source": [
    "data_dir = r\"E:\\CHANDU\\Projects\\ComputerVisionProjects\\SignLangDetect\\dataset\\train\"\n",
    "images,labels,label_maps = load_data(data_dir)"
   ]
  },
  {
   "cell_type": "code",
   "execution_count": 3,
   "metadata": {},
   "outputs": [
    {
     "name": "stdout",
     "output_type": "stream",
     "text": [
      "(32, 32, 3)\n"
     ]
    },
    {
     "data": {
      "image/png": "[encoded data removed]",
      "text/plain": [
       "<Figure size 432x288 with 1 Axes>"
      ]
     },
     "metadata": {
      "needs_background": "light"
     },
     "output_type": "display_data"
    }
   ],
   "source": [
    "\n",
    "plt.imshow(images[0])\n",
    "print(images[1].shape)"
   ]
  },
  {
   "cell_type": "code",
   "execution_count": 4,
   "metadata": {},
   "outputs": [],
   "source": [
    "X_train_org,X_val_org,y_train_org,y_val_org = train_test_split(images,labels,test_size=0.15,random_state=42)"
   ]
  },
  {
   "cell_type": "code",
   "execution_count": 5,
   "metadata": {},
   "outputs": [
    {
     "data": {
      "text/plain": [
       "(1802, 32, 32, 3)"
      ]
     },
     "execution_count": 5,
     "metadata": {},
     "output_type": "execute_result"
    }
   ],
   "source": [
    "X_train_org.shape"
   ]
  },
  {
   "cell_type": "code",
   "execution_count": 6,
   "metadata": {},
   "outputs": [
    {
     "data": {
      "text/plain": [
       "(319, 32, 32, 3)"
      ]
     },
     "execution_count": 6,
     "metadata": {},
     "output_type": "execute_result"
    }
   ],
   "source": [
    "X_val_org.shape"
   ]
  },
  {
   "cell_type": "code",
   "execution_count": 7,
   "metadata": {},
   "outputs": [
    {
     "data": {
      "text/plain": [
       "array([31, 25,  4, 27, 31, 22, 15, 28,  8, 31, 24, 30, 13, 35, 17,  1,  3,\n",
       "        4, 18, 27, 31,  6, 24, 19, 12, 23,  5, 11,  8, 31, 28, 19,  9, 26,\n",
       "       16,  9, 34,  7, 16, 17, 16,  1, 19,  1, 24, 10, 25, 14,  7, 19, 32,\n",
       "        6,  4,  7, 22,  5, 12, 30, 21,  7, 21, 16, 18, 15,  0,  5, 25, 34,\n",
       "       31, 27, 17,  5,  6, 12, 18, 22,  0,  3,  7, 33,  8, 30, 29, 24, 31,\n",
       "       23, 29, 17, 11, 11, 32,  6, 29,  6, 24,  1,  4, 23,  6, 11,  6, 21,\n",
       "       28, 28, 27, 18,  4,  4, 11,  9,  9,  9,  5, 24, 32, 16,  2, 33,  9,\n",
       "       27, 10,  5, 18,  1, 33, 24, 33,  2, 24, 33,  8,  0, 20,  8, 21, 24,\n",
       "       28,  3, 15, 11, 35, 29, 15,  9, 19, 24, 18, 32, 26, 31, 28, 21, 22,\n",
       "       10, 25, 22,  1, 34,  9, 10, 21,  3, 29,  9, 25, 30, 25, 15, 32, 14,\n",
       "        4, 23, 13,  7,  4, 16, 34,  6, 29, 27, 22, 32, 32, 10,  2, 30,  8,\n",
       "       28, 21,  7, 15, 29,  1, 17,  5, 17, 30,  3,  5, 19, 12, 33, 33, 34,\n",
       "       19, 10,  9,  4,  5, 15, 24,  8, 32,  3, 28, 35, 18, 34,  1, 34,  8,\n",
       "       30, 33,  3, 26, 26, 30, 16, 13, 22, 19, 14,  9, 28,  3, 14, 17, 18,\n",
       "       11, 20, 19, 20, 26, 31,  3,  2, 28,  1,  4, 12,  7,  4, 32, 20, 32,\n",
       "       34,  9, 14, 27,  0, 23, 16, 33, 27, 27,  6, 35, 31, 30, 24, 28, 18,\n",
       "       27, 23, 24, 31, 18, 23, 32, 21, 17,  2,  5, 18, 30, 14, 35, 11,  1,\n",
       "       25, 29, 10, 18, 31, 33, 17, 10, 35, 33, 29, 23, 32, 29, 25, 12, 14,\n",
       "       29,  7,  9, 11, 27, 30, 15, 29, 15, 26, 17,  6, 30])"
      ]
     },
     "execution_count": 7,
     "metadata": {},
     "output_type": "execute_result"
    }
   ],
   "source": [
    "y_val_org"
   ]
  },
  {
   "cell_type": "markdown",
   "metadata": {},
   "source": [
    "# Model"
   ]
  },
  {
   "cell_type": "code",
   "execution_count": 8,
   "metadata": {},
   "outputs": [],
   "source": [
    "from tensorflow.keras import models,layers\n",
    "from tensorflow.keras.preprocessing.image import ImageDataGenerator,load_img\n",
    "from sklearn.metrics import confusion_matrix,accuracy_score\n",
    "import seaborn as sns"
   ]
  },
  {
   "cell_type": "code",
   "execution_count": 9,
   "metadata": {},
   "outputs": [],
   "source": [
    "X_train = X_train_org/255\n",
    "X_val = X_val_org/255"
   ]
  },
  {
   "cell_type": "code",
   "execution_count": 10,
   "metadata": {},
   "outputs": [
    {
     "name": "stderr",
     "output_type": "stream",
     "text": [
      "c:\\ProgramData\\Anaconda3\\lib\\site-packages\\keras\\src\\layers\\convolutional\\base_conv.py:99: UserWarning: Do not pass an `input_shape`/`input_dim` argument to a layer. When using Sequential models, prefer using an `Input(shape)` object as the first layer in the model instead.\n",
      "  super().__init__(\n"
     ]
    }
   ],
   "source": [
    "cnn = models.Sequential([\n",
    "    layers.Conv2D(filters=32, kernel_size=(3,3), activation='relu', input_shape=(32,32,3)),\n",
    "    layers.MaxPooling2D((2,2)),\n",
    "    layers.Conv2D(filters=64, kernel_size=(3,3), activation='relu'),\n",
    "    layers.MaxPooling2D((2,2)),\n",
    "    layers.Conv2D(filters=128, kernel_size=(3,3), activation='relu'),\n",
    "    layers.MaxPooling2D((2,2)),\n",
    "    layers.Flatten(),\n",
    "    layers.Dense(64, activation='relu'),\n",
    "    layers.Dense(128, activation='relu'),\n",
    "    layers.Dropout(0.2),  # Dropout layer with 50% dropout rate\n",
    "    layers.Dense(36, activation='softmax')\n",
    "])"
   ]
  },
  {
   "cell_type": "code",
   "execution_count": 11,
   "metadata": {},
   "outputs": [],
   "source": [
    "cnn.compile(optimizer ='adam',\n",
    "            loss = 'sparse_categorical_crossentropy',\n",
    "            metrics = ['accuracy'])"
   ]
  },
  {
   "cell_type": "code",
   "execution_count": 13,
   "metadata": {},
   "outputs": [
    {
     "name": "stdout",
     "output_type": "stream",
     "text": [
      "Epoch 1/10\n",
      "\u001b[1m57/57\u001b[0m \u001b[32m━━━━━━━━━━━━━━━━━━━━\u001b[0m\u001b[37m\u001b[0m \u001b[1m1s\u001b[0m 20ms/step - accuracy: 0.9396 - loss: 0.1580\n",
      "Epoch 2/10\n",
      "\u001b[1m57/57\u001b[0m \u001b[32m━━━━━━━━━━━━━━━━━━━━\u001b[0m\u001b[37m\u001b[0m \u001b[1m1s\u001b[0m 20ms/step - accuracy: 0.9536 - loss: 0.1237\n",
      "Epoch 3/10\n",
      "\u001b[1m57/57\u001b[0m \u001b[32m━━━━━━━━━━━━━━━━━━━━\u001b[0m\u001b[37m\u001b[0m \u001b[1m1s\u001b[0m 20ms/step - accuracy: 0.9448 - loss: 0.1222\n",
      "Epoch 4/10\n",
      "\u001b[1m57/57\u001b[0m \u001b[32m━━━━━━━━━━━━━━━━━━━━\u001b[0m\u001b[37m\u001b[0m \u001b[1m1s\u001b[0m 19ms/step - accuracy: 0.9691 - loss: 0.0825\n",
      "Epoch 5/10\n",
      "\u001b[1m57/57\u001b[0m \u001b[32m━━━━━━━━━━━━━━━━━━━━\u001b[0m\u001b[37m\u001b[0m \u001b[1m1s\u001b[0m 21ms/step - accuracy: 0.9637 - loss: 0.0867\n",
      "Epoch 6/10\n",
      "\u001b[1m57/57\u001b[0m \u001b[32m━━━━━━━━━━━━━━━━━━━━\u001b[0m\u001b[37m\u001b[0m \u001b[1m1s\u001b[0m 19ms/step - accuracy: 0.9605 - loss: 0.1123\n",
      "Epoch 7/10\n",
      "\u001b[1m57/57\u001b[0m \u001b[32m━━━━━━━━━━━━━━━━━━━━\u001b[0m\u001b[37m\u001b[0m \u001b[1m1s\u001b[0m 20ms/step - accuracy: 0.9809 - loss: 0.0582\n",
      "Epoch 8/10\n",
      "\u001b[1m57/57\u001b[0m \u001b[32m━━━━━━━━━━━━━━━━━━━━\u001b[0m\u001b[37m\u001b[0m \u001b[1m1s\u001b[0m 20ms/step - accuracy: 0.9798 - loss: 0.0788\n",
      "Epoch 9/10\n",
      "\u001b[1m57/57\u001b[0m \u001b[32m━━━━━━━━━━━━━━━━━━━━\u001b[0m\u001b[37m\u001b[0m \u001b[1m1s\u001b[0m 20ms/step - accuracy: 0.9764 - loss: 0.0531\n",
      "Epoch 10/10\n",
      "\u001b[1m57/57\u001b[0m \u001b[32m━━━━━━━━━━━━━━━━━━━━\u001b[0m\u001b[37m\u001b[0m \u001b[1m1s\u001b[0m 18ms/step - accuracy: 0.9791 - loss: 0.0628\n"
     ]
    },
    {
     "data": {
      "text/plain": [
       "<keras.src.callbacks.history.History at 0x25031059250>"
      ]
     },
     "execution_count": 13,
     "metadata": {},
     "output_type": "execute_result"
    }
   ],
   "source": [
    "cnn.fit(X_train,y_train_org, epochs = 10)"
   ]
  },
  {
   "cell_type": "code",
   "execution_count": 15,
   "metadata": {},
   "outputs": [
    {
     "name": "stdout",
     "output_type": "stream",
     "text": [
      "\u001b[1m10/10\u001b[0m \u001b[32m━━━━━━━━━━━━━━━━━━━━\u001b[0m\u001b[37m\u001b[0m \u001b[1m0s\u001b[0m 15ms/step\n",
      "Predict_val_classes:  [31 25  4 27 31 22 15 28  8 31 24 30 13 35 17  1  3  4 18 27 31  6 24 19\n",
      " 12 23  5 11  8 31 28 19  9 26 16  9 34  7 16 17 16 35 19  1 24 10 25 14\n",
      "  7 19 32 32  4  7 22  5 12 30 21  7 21 16 18 15  0  5 25 34 31 27 17  5\n",
      " 32 12 18 22  0 35  7 33  8 30 29 24 31 23 29 17 11 11 32  6 29  6  0  1\n",
      "  4 23 32 11 32 21 28 28 30 18  4  4 11  9  9  9  5  0 31 16 31 33  9 27\n",
      " 10  5 18  1 33  0 33 31 24 33  8  0 20  8 21 24 28  3 15 11 35 29 15  9\n",
      " 19 24 18 32 26 31 28 21 22 10 25 22  1 34  9 10 21  3 29  9 25 30 25 15\n",
      " 32 14  4 23 18  7  4 16 34  6 29 30 23 32 31 10 31 30  8 10 21  7 15 29\n",
      "  1 17  5 17 30  3  5 19 12 33 33 34 19 10  9  4  5 15 24  8 32  3 28 35\n",
      " 18 34  1 34  8 30 33  3 26 26 30 16 13 22 19 14  9 28  3 14 17 18 11 20\n",
      " 19 20 26 31  3  2 28  1  4 12  7  4 32 20 32 34  9 14 27  0 23 16 33 27\n",
      " 35  6 35 31 30 24 28 18 30 23 24 31 18 23 32 21 16  2  5 18 30 14 35 11\n",
      " 35 25 29 10 18 31 33 17 10 35 33 29 23 32 29 25 12 14 29  7  9 11 27 30\n",
      " 15 29 15 26 17  6 30]\n"
     ]
    }
   ],
   "source": [
    "predict_val=cnn.predict(X_val)\n",
    "predict_val_classes = np.argmax(predict_val,axis=1)\n",
    "print(\"Predict_val_classes: \",predict_val_classes)\n"
   ]
  },
  {
   "cell_type": "code",
   "execution_count": 14,
   "metadata": {},
   "outputs": [
    {
     "name": "stdout",
     "output_type": "stream",
     "text": [
      "\u001b[1m10/10\u001b[0m \u001b[32m━━━━━━━━━━━━━━━━━━━━\u001b[0m\u001b[37m\u001b[0m \u001b[1m0s\u001b[0m 11ms/step - accuracy: 0.9323 - loss: 0.1622\n"
     ]
    },
    {
     "data": {
      "text/plain": [
       "[0.16941876709461212, 0.9278996586799622]"
      ]
     },
     "execution_count": 14,
     "metadata": {},
     "output_type": "execute_result"
    }
   ],
   "source": [
    "cnn.evaluate(X_val,y_val_org)"
   ]
  },
  {
   "cell_type": "code",
   "execution_count": null,
   "metadata": {},
   "outputs": [],
   "source": []
  },
  {
   "cell_type": "code",
   "execution_count": null,
   "metadata": {},
   "outputs": [],
   "source": [
    "test_dir = r\"E:\\CHANDU\\Projects\\ComputerVisionProjects\\SignLangDetect\\dataset\\test\"\n",
    "test_datagen = ImageDataGenerator(rescale=1/255)\n",
    "\n",
    "# Load and preprocess the testing data\n",
    "test_generator = test_datagen.flow_from_directory(test_dir,\n",
    "                                                  target_size=(32,32),\n",
    "                                                  batch_size=32,\n",
    "                                                  class_mode='categorical',  # Use 'binary' for binary classification\n",
    "                                                  shuffle=True)\n",
    "\n",
    "\n"
   ]
  },
  {
   "cell_type": "code",
   "execution_count": 17,
   "metadata": {},
   "outputs": [
    {
     "name": "stdout",
     "output_type": "stream",
     "text": [
      "Loading data....\n",
      "Done...\n"
     ]
    }
   ],
   "source": [
    "test_dir = r\"E:\\CHANDU\\Projects\\ComputerVisionProjects\\SignLangDetect\\dataset\\test\"\n",
    "\n",
    "X_test,y_test,test_labels = load_data(test_dir)"
   ]
  },
  {
   "cell_type": "code",
   "execution_count": null,
   "metadata": {},
   "outputs": [],
   "source": []
  },
  {
   "cell_type": "code",
   "execution_count": 18,
   "metadata": {},
   "outputs": [],
   "source": [
    "X_test=X_test/255"
   ]
  },
  {
   "cell_type": "code",
   "execution_count": 19,
   "metadata": {},
   "outputs": [
    {
     "name": "stdout",
     "output_type": "stream",
     "text": [
      "\u001b[1m13/13\u001b[0m \u001b[32m━━━━━━━━━━━━━━━━━━━━\u001b[0m\u001b[37m\u001b[0m \u001b[1m0s\u001b[0m 10ms/step\n"
     ]
    }
   ],
   "source": [
    "predictions_test = cnn.predict(X_test)\n"
   ]
  },
  {
   "cell_type": "code",
   "execution_count": 20,
   "metadata": {},
   "outputs": [
    {
     "name": "stdout",
     "output_type": "stream",
     "text": [
      "\u001b[1m13/13\u001b[0m \u001b[32m━━━━━━━━━━━━━━━━━━━━\u001b[0m\u001b[37m\u001b[0m \u001b[1m0s\u001b[0m 12ms/step - accuracy: 0.9243 - loss: 0.1906\n"
     ]
    },
    {
     "data": {
      "text/plain": [
       "[0.11154438555240631, 0.9569620490074158]"
      ]
     },
     "execution_count": 20,
     "metadata": {},
     "output_type": "execute_result"
    }
   ],
   "source": [
    "cnn.evaluate(X_test,y_test)"
   ]
  },
  {
   "cell_type": "code",
   "execution_count": 21,
   "metadata": {},
   "outputs": [
    {
     "name": "stdout",
     "output_type": "stream",
     "text": [
      "Predicted classes:  [ 0  0  0  0  0  0  0  0  0  0  0  1  1  1  1  1  1  1  1  1  1  1  2 31\n",
      "  2  2  2 31 31 31 31 31  2  3  3  3  3  3  3  3  3  3  3  3  4  4  4  4\n",
      "  4  4  4  4  4  4  4  5  5  5  5  5  5  5  5  5  5  5  6  6 32  6 32 32\n",
      " 32 32  6 32  6  7  7  7  7  7  7  7  7  7  7  7  8  8  8  8  8  8 15  8\n",
      "  8  8  8  9  9  9  9  9  9  9  9  9  9  9 10 10 10 10 10 10 10 10 10 10\n",
      " 10 11 11 11 11 11 11 11 11 11 11 11 12 12 12 12 12 12 12 12 12 12 12 13\n",
      " 13 13 13 13 13 13 13 13 13 13 14 14 14 14 14 14 14 14 14 14 14 15 15 15\n",
      " 15 15 15 15 15 15 15 15 16 16 16 16 16 16 16 16 16 16 16 17 17 17 17 17\n",
      " 17 17 17 17 17 17 18 18 18 18 18 18 18 18 18 18 18 19 19 19 19 19 19 19\n",
      " 19 19 19 19 20 20 20 20 20 20 20 20 20 20 20 21 21 21 21 21 21 21 21 21\n",
      " 21 21 22 22 22 22 22 22 22 22 22 22 22 23 23 23 23 23 23 23 23 23 23 23\n",
      " 24  0  0 24 24 24 24 24 24 24 24 25 25 25 25 25 25 25 25 25 25 25 26 26\n",
      " 26 26 26 26 26 26 26 26 26 27 27 27 27 27 27 35 27 27 27 30 28 28 28 28\n",
      " 28 28 28 28 28 28 28 29 29 29 29 29 29 29 29 29 29 30 30 30 30 30 30 30\n",
      " 30 30 30 30 31 31 31 31 31 31 31 31 31 31 31 32 32 32 32 32 32 32 32 32\n",
      " 32 32 33 33 33 33 33 33 33 33 33 33 33 34 34 34 34 34 34 34 34 34 34 34\n",
      " 35 35 35 35 35 35 35 35 35 35 35]\n"
     ]
    }
   ],
   "source": [
    "predict_test_classes = np.argmax(predictions_test,axis=1)\n",
    "print(\"Predicted classes: \",predict_test_classes)"
   ]
  },
  {
   "cell_type": "code",
   "execution_count": 22,
   "metadata": {},
   "outputs": [
    {
     "data": {
      "image/png": "[encoded data removed]",
      "text/plain": [
       "<Figure size 720x576 with 2 Axes>"
      ]
     },
     "metadata": {
      "needs_background": "light"
     },
     "output_type": "display_data"
    }
   ],
   "source": [
    "# True labels\n",
    "true_classes = y_test\n",
    "# Class labels\n",
    "class_labels = list(test_labels.values())\n",
    "\n",
    "# Compute the confusion matrix\n",
    "conf_matrix = confusion_matrix(true_classes, predict_test_classes)\n",
    "\n",
    "# Plot the confusion matrix\n",
    "plt.figure(figsize=(10, 8))\n",
    "sns.heatmap(conf_matrix, annot=True, fmt='d', cmap='Blues', xticklabels=class_labels, yticklabels=class_labels)\n",
    "plt.xlabel('Predicted')\n",
    "plt.ylabel('True')\n",
    "plt.title('Confusion Matrix')\n",
    "plt.show()"
   ]
  },
  {
   "cell_type": "code",
   "execution_count": 29,
   "metadata": {},
   "outputs": [
    {
     "name": "stdout",
     "output_type": "stream",
     "text": [
      "0.9569620253164557\n"
     ]
    }
   ],
   "source": [
    "print(accuracy_score(predict_test_classes,y_test))"
   ]
  },
  {
   "cell_type": "code",
   "execution_count": null,
   "metadata": {},
   "outputs": [],
   "source": [
    "cnn.save(\"model.keras\")"
   ]
  },
  {
   "cell_type": "code",
   "execution_count": null,
   "metadata": {},
   "outputs": [],
   "source": []
  }
 ],
 "metadata": {
  "kernelspec": {
   "display_name": "base",
   "language": "python",
   "name": "python3"
  },
  "language_info": {
   "codemirror_mode": {
    "name": "ipython",
    "version": 3
   },
   "file_extension": ".py",
   "mimetype": "text/x-python",
   "name": "python",
   "nbconvert_exporter": "python",
   "pygments_lexer": "ipython3",
   "version": "3.9.12"
  }
 },
 "nbformat": 4,
 "nbformat_minor": 2
}
